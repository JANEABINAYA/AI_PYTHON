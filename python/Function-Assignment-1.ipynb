{
 "cells": [
  {
   "cell_type": "code",
   "execution_count": 32,
   "id": "ef7b7f64-79dd-49ff-aad6-14b292a58c7d",
   "metadata": {},
   "outputs": [],
   "source": [
    "subfields_ai = [\n",
    "    \"Machine Learning\",\n",
    "    \"Neural Networks\",\n",
    "    \"Vision\",\n",
    "    \"Robotics\",\n",
    "    \"Speech Processing\",\n",
    "    \"Natural Language Processing\"]"
   ]
  },
  {
   "cell_type": "code",
   "execution_count": 31,
   "id": "21e917ab-3420-4ff7-9e30-7d155f625cbc",
   "metadata": {},
   "outputs": [
    {
     "name": "stdout",
     "output_type": "stream",
     "text": [
      "Subfields in AI are:\n",
      "Machine Learning\n",
      "Neural Networks\n",
      "Vision\n",
      "Robotics\n",
      "Speech Processing\n",
      "Natural Language Processing\n"
     ]
    }
   ],
   "source": [
    "def list_items(items):\n",
    "    for item in items:\n",
    "        print(item)\n",
    "subfields = [\"Machine Learning\",\n",
    "           \"Neural Networks\", \n",
    "           \"Vision\",\n",
    "           \"Robotics\",\n",
    "           \"Speech Processing\",\n",
    "           \"Natural Language Processing\"]\n",
    "print(\"Subfields in AI are:\")\n",
    "list_items(subfields)"
   ]
  },
  {
   "cell_type": "code",
   "execution_count": 34,
   "id": "9d38a0b3-7d33-4ad1-8266-e21ac2f049de",
   "metadata": {},
   "outputs": [],
   "source": [
    " def num_in_OddEven():\n",
    "      if((num%2)==0):        \n",
    "          print(num,\"is Even number\")\n",
    "      else:\n",
    "          print(num,\"is Odd number\")"
   ]
  },
  {
   "cell_type": "code",
   "execution_count": 35,
   "id": "cb64290b-73a8-4622-98a0-422fdadf339c",
   "metadata": {},
   "outputs": [
    {
     "name": "stdin",
     "output_type": "stream",
     "text": [
      "Enter a number: 52452\n"
     ]
    },
    {
     "name": "stdout",
     "output_type": "stream",
     "text": [
      "52452 is Even number\n"
     ]
    }
   ],
   "source": [
    " num=int(input(\"Enter a number:\"))\n",
    "num_in_OddEven()"
   ]
  },
  {
   "cell_type": "code",
   "execution_count": 36,
   "id": "4e50cf2a-ffec-4cb8-831e-4728af518b7e",
   "metadata": {},
   "outputs": [],
   "source": [
    "def eligibility_in_marriage(gender):\n",
    "     if gender == 'male' and age >= 21:\n",
    "         print(' eligible ')\n",
    "     elif gender=='female' and age>=18:\n",
    "         print('eligible')\n",
    "     else:\n",
    "         print('NOT ELIGIBLE')"
   ]
  },
  {
   "cell_type": "code",
   "execution_count": 37,
   "id": "196cf0c6-5e4e-4f37-9327-9e8f0c832e22",
   "metadata": {},
   "outputs": [
    {
     "name": "stdin",
     "output_type": "stream",
     "text": [
      "Your Gender: MALE\n",
      "Your Age 20\n"
     ]
    },
    {
     "name": "stdout",
     "output_type": "stream",
     "text": [
      "NOT ELIGIBLE\n"
     ]
    }
   ],
   "source": [
    "gender = input(\"Your Gender:\")\n",
    "age = int(input(\"Your Age\"))\n",
    "eligibility_in_marriage(gender)"
   ]
  },
  {
   "cell_type": "code",
   "execution_count": 21,
   "id": "cd286d24-de2e-4834-95f2-6168d98ee45a",
   "metadata": {},
   "outputs": [],
   "source": [
    "def percentage():\n",
    "        total_marks = sum(subject_marks.values())\n",
    "        max_marks = len(subject_marks) * 100  \n",
    "        percentage = (total_marks / max_marks) * 100\n",
    "        for subject, marks in subject_marks.items():\n",
    "            print(f\"{subject} = {marks}\") \n",
    "        print(f\"Total: {total_marks}\")\n",
    "        print(f\"Percentage: {percentage}\")\n",
    "subject_marks = {\n",
    "    \"Subject1\": 98,\n",
    "    \"Subject2\": 87,\n",
    "    \"Subject3\": 95,\n",
    "    \"Subject4\": 95,\n",
    "    \"Subject5\": 93}"
   ]
  },
  {
   "cell_type": "code",
   "execution_count": 22,
   "id": "e0ed80d1-7e1b-4f99-9beb-777aa3fd4779",
   "metadata": {},
   "outputs": [
    {
     "name": "stdout",
     "output_type": "stream",
     "text": [
      "Subject1 = 98\n",
      "Subject2 = 87\n",
      "Subject3 = 95\n",
      "Subject4 = 95\n",
      "Subject5 = 93\n",
      "Total: 468\n",
      "Percentage: 93.60000000000001\n"
     ]
    }
   ],
   "source": [
    "percentage()"
   ]
  },
  {
   "cell_type": "code",
   "execution_count": 29,
   "id": "47686697-995d-41b0-bf54-5bdc04a5e615",
   "metadata": {},
   "outputs": [
    {
     "name": "stdout",
     "output_type": "stream",
     "text": [
      "Height: 32\n",
      "Breadth: 34\n",
      "Area formula: (Height*Breadth)/2\n",
      "Area of Triangle: 544.0\n",
      "Height1: 2\n",
      "Height2: 4\n",
      "Breadth: 4\n",
      "Perimeter formula: Height1+Height2+Breadth\n",
      "Perimeter of Triangle: 10\n"
     ]
    }
   ],
   "source": [
    "    def init(self):\n",
    "        self.height = 0\n",
    "        self.breadth = 0\n",
    "        self.height1 = 0\n",
    "        self.height2 = 0\n",
    "        self_breadth_for_perimeter = 0\n",
    "    def area (self, height, breadth):\n",
    "        self.height = height\n",
    "        self.breadth = breadth\n",
    "        return(self.height*self.breadth) / 2\n",
    "    def perimeter (self, height1, height2, breadth):\n",
    "        self.height1 = height1\n",
    "        self.height2 = height2\n",
    "        self.breadth_for_perimeter = breadth\n",
    "        return(self.height1+self.height2+self.breadth_for_perimeter)\n",
    "num1=32\n",
    "num2=34\n",
    "area = triangle.area(num1, num2)\n",
    "print(\"Height:\",num1)\n",
    "print(\"Breadth:\",num2)\n",
    "print(\"Area formula: (Height*Breadth)/2\")\n",
    "print(\"Area of Triangle:\",area)\n",
    "item1=2\n",
    "item2=4\n",
    "item3=4\n",
    "perimeter = triangle.perimeter(item1, item2, item3)\n",
    "print(\"Height1:\",item1)\n",
    "print(\"Height2:\",item2)\n",
    "print(\"Breadth:\",item3)\n",
    "print(\"Perimeter formula: Height1+Height2+Breadth\")\n",
    "print(\"Perimeter of Triangle:\",perimeter)"
   ]
  },
  {
   "cell_type": "code",
   "execution_count": null,
   "id": "8e759b23-f9ac-49bc-be11-26e36cfa3e0d",
   "metadata": {},
   "outputs": [],
   "source": []
  }
 ],
 "metadata": {
  "kernelspec": {
   "display_name": "Python 3 (ipykernel)",
   "language": "python",
   "name": "python3"
  },
  "language_info": {
   "codemirror_mode": {
    "name": "ipython",
    "version": 3
   },
   "file_extension": ".py",
   "mimetype": "text/x-python",
   "name": "python",
   "nbconvert_exporter": "python",
   "pygments_lexer": "ipython3",
   "version": "3.12.7"
  }
 },
 "nbformat": 4,
 "nbformat_minor": 5
}
