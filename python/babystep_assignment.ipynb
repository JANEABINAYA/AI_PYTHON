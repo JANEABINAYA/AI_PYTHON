{
 "cells": [
  {
   "cell_type": "code",
   "execution_count": 2,
   "id": "98d48c31-c47d-4edf-9a43-885ceaf4bc44",
   "metadata": {},
   "outputs": [
    {
     "name": "stdout",
     "output_type": "stream",
     "text": [
      "Welcome to Assignment-1\n"
     ]
    }
   ],
   "source": [
    "print(\"Welcome to Assignment-1\")"
   ]
  },
  {
   "cell_type": "code",
   "execution_count": 1,
   "id": "20cd7750-4c52-4e13-9105-6f4f58cba2c2",
   "metadata": {},
   "outputs": [],
   "source": [
    "num1=10\n",
    "num2=30\n",
    "add=num1+num2"
   ]
  },
  {
   "cell_type": "code",
   "execution_count": 2,
   "id": "6d8c2fe9-bb1e-4b33-a332-caaacbdca8e4",
   "metadata": {},
   "outputs": [
    {
     "name": "stdout",
     "output_type": "stream",
     "text": [
      "Num1= 10\n",
      "Num2= 30\n",
      "Add= 40\n"
     ]
    }
   ],
   "source": [
    "print(\"Num1=\",num1)\n",
    "print(\"Num2=\",num2)\n",
    "print(\"Add=\",add)"
   ]
  },
  {
   "cell_type": "code",
   "execution_count": 7,
   "id": "986347ff-3b66-4d30-a3b7-7abe49dc5194",
   "metadata": {},
   "outputs": [],
   "source": [
    "bmi=34"
   ]
  },
  {
   "cell_type": "code",
   "execution_count": 13,
   "id": "84d977c1-4713-4ffe-a162-a291006cb933",
   "metadata": {},
   "outputs": [
    {
     "name": "stdout",
     "output_type": "stream",
     "text": [
      "Enter the BMI index: 34\n",
      "very overweight\n"
     ]
    }
   ],
   "source": [
    "print(\"Enter the BMI index:\",bmi)\n",
    "if(bmi<18.5):\n",
    "    print(\"underweight\")\n",
    "elif(bmi<24.9):\n",
    "    print(\"normalweight\")\n",
    "elif(bmi<29.9):\n",
    "    print(\"overweight\")\n",
    "else:\n",
    "    print(\"very overweight\")"
   ]
  },
  {
   "cell_type": "code",
   "execution_count": null,
   "id": "f7b08da0-33a1-4e54-9d2d-f36c28dd5331",
   "metadata": {},
   "outputs": [],
   "source": []
  }
 ],
 "metadata": {
  "kernelspec": {
   "display_name": "Python 3 (ipykernel)",
   "language": "python",
   "name": "python3"
  },
  "language_info": {
   "codemirror_mode": {
    "name": "ipython",
    "version": 3
   },
   "file_extension": ".py",
   "mimetype": "text/x-python",
   "name": "python",
   "nbconvert_exporter": "python",
   "pygments_lexer": "ipython3",
   "version": "3.12.7"
  }
 },
 "nbformat": 4,
 "nbformat_minor": 5
}
