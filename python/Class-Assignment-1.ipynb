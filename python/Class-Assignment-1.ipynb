{
 "cells": [
  {
   "cell_type": "code",
   "execution_count": 45,
   "id": "e31bb5d8-59e7-48d8-9598-030ea1052902",
   "metadata": {},
   "outputs": [
    {
     "name": "stdout",
     "output_type": "stream",
     "text": [
      "Sub-fields in AI:\n",
      "Machine Learning\n",
      "Neural Networks\n",
      "Vision\n",
      "Robotics\n",
      "Speech Processing\n",
      "Natural Language Processing\n"
     ]
    }
   ],
   "source": [
    "subfields_ai = [\n",
    "    \"Machine Learning\",\n",
    "    \"Neural Networks\",\n",
    "    \"Vision\",\n",
    "    \"Robotics\",\n",
    "    \"Speech Processing\",\n",
    "    \"Natural Language Processing\"]\n",
    "print(\"Sub-fields in AI:\")\n",
    "for field in subfields_ai:\n",
    "    print(field)"
   ]
  },
  {
   "cell_type": "code",
   "execution_count": 17,
   "id": "f3f115a9-bf08-42c6-abfd-195e71d63efe",
   "metadata": {},
   "outputs": [
    {
     "name": "stdout",
     "output_type": "stream",
     "text": [
      "Subfields in AI are:\n",
      "Machine Learning\n",
      "Neural Networks\n",
      "Vision\n",
      "Robotics\n",
      "Speech Processing\n",
      "Natural Language Processing\n"
     ]
    }
   ],
   "source": [
    "class SubfieldsInAI:\n",
    "    def __init__(self):\n",
    "        self.subfields = [\n",
    "            \"Machine Learning\",\n",
    "            \"Neural Networks\",\n",
    "            \"Vision\",\n",
    "            \"Robotics\",\n",
    "            \"Speech Processing\",\n",
    "            \"Natural Language Processing\"]\n",
    "    def Subfields(self):\n",
    "        print(\"Subfields in AI are:\")\n",
    "        for field in self.subfields:\n",
    "            print(field)\n",
    "ai_subfields = SubfieldsInAI()\n",
    "ai_subfields.Subfields()"
   ]
  },
  {
   "cell_type": "code",
   "execution_count": 1,
   "id": "cc29f445-4646-41d9-be8e-4142b00eeee4",
   "metadata": {},
   "outputs": [
    {
     "name": "stdin",
     "output_type": "stream",
     "text": [
      "Enter a number: 52452\n"
     ]
    },
    {
     "name": "stdout",
     "output_type": "stream",
     "text": [
      "52452 is Even number\n"
     ]
    }
   ],
   "source": [
    "num=int(input(\"Enter a number:\"))\n",
    "if((num%2)==0):\n",
    "    print(num,\"is Even number\")\n",
    "else:\n",
    "    print(num,\"is Odd number\")"
   ]
  },
  {
   "cell_type": "code",
   "execution_count": 14,
   "id": "aca8d20a-6edc-4a85-9ca1-6960f5bcac02",
   "metadata": {},
   "outputs": [],
   "source": [
    "class OddEven:\n",
    "  def num_in_OddEven():\n",
    "      num=int(input(\"Enter a number:\"))\n",
    "      if((num%2)==0):        \n",
    "          print(num,\"is Even number\")\n",
    "      else:\n",
    "          print(num,\"is Odd number\")"
   ]
  },
  {
   "cell_type": "code",
   "execution_count": 15,
   "id": "cf9e6008-68f4-43bb-b3a7-f6b4381e8f62",
   "metadata": {},
   "outputs": [
    {
     "name": "stdin",
     "output_type": "stream",
     "text": [
      "Enter a number: 52452\n"
     ]
    },
    {
     "name": "stdout",
     "output_type": "stream",
     "text": [
      "52452 is Even number\n"
     ]
    }
   ],
   "source": [
    "OddEven.num_in_OddEven()"
   ]
  },
  {
   "cell_type": "code",
   "execution_count": 23,
   "id": "b9a2d685-5926-4b02-a851-9b95ba507f9b",
   "metadata": {},
   "outputs": [
    {
     "name": "stdin",
     "output_type": "stream",
     "text": [
      "Your Gender: MALE\n",
      "Please enter your age:  20\n"
     ]
    },
    {
     "name": "stdout",
     "output_type": "stream",
     "text": [
      "NOT ELIGIBLE\n"
     ]
    }
   ],
   "source": [
    "gender=input(\"Your Gender:\")\n",
    "age = int(input('Please enter your age: '))\n",
    "if gender == 'male' and age >= 21:\n",
    "    print(' eligible ')\n",
    "elif gender=='female' and age>=18:\n",
    "    print('eligible')\n",
    "else:\n",
    "    print('NOT ELIGIBLE')"
   ]
  },
  {
   "cell_type": "code",
   "execution_count": 8,
   "id": "fdde950c-e399-44b8-935f-9ce7461fe72d",
   "metadata": {},
   "outputs": [
    {
     "name": "stdin",
     "output_type": "stream",
     "text": [
      "Your Gender: MALE\n",
      "Your Age: 20\n"
     ]
    },
    {
     "name": "stdout",
     "output_type": "stream",
     "text": [
      "NOT ELIGIBLE\n"
     ]
    }
   ],
   "source": [
    "class eligible_or_noteligible:\n",
    "   def eligibility_in_marriage(gender):\n",
    "     if gender == 'male' and age >= 21:\n",
    "         print(' eligible ')\n",
    "     elif gender=='female' and age>=18:\n",
    "         print('eligible')\n",
    "     else:\n",
    "         print('NOT ELIGIBLE')\n",
    "gender=input(\"Your Gender:\")\n",
    "age=int(input(\"Your Age:\"))\n",
    "result = eligible_or_noteligible.eligibility_in_marriage(gender)"
   ]
  },
  {
   "cell_type": "code",
   "execution_count": 18,
   "id": "65260b97-dedd-437c-a91a-80a711745f1a",
   "metadata": {},
   "outputs": [
    {
     "name": "stdout",
     "output_type": "stream",
     "text": [
      "Subject1 = 98\n",
      "Subject2 = 87\n",
      "Subject3 = 95\n",
      "Subject4 = 95\n",
      "Subject5 = 93\n",
      "Total: 468\n",
      "Percentage: 93.60000000000001\n"
     ]
    }
   ],
   "source": [
    "class FindPercent:\n",
    "    def __init__(self, subject_marks):\n",
    "        self.subject_marks = subject_marks\n",
    "    def percentage(self):\n",
    "        total_marks = sum(self.subject_marks.values())\n",
    "        max_marks = len(self.subject_marks) * 100  # Assuming each subject is out of 100\n",
    "        percentage = (total_marks / max_marks) * 100\n",
    "        for subject, marks in self.subject_marks.items():\n",
    "            print(f\"{subject} = {marks}\") \n",
    "        print(f\"Total: {total_marks}\")\n",
    "        print(f\"Percentage: {percentage}\")\n",
    "subject_marks = {\n",
    "    \"Subject1\": 98,\n",
    "    \"Subject2\": 87,\n",
    "    \"Subject3\": 95,\n",
    "    \"Subject4\": 95,\n",
    "    \"Subject5\": 93}\n",
    "result = FindPercent(subject_marks)\n",
    "result.percentage()"
   ]
  },
  {
   "cell_type": "code",
   "execution_count": 7,
   "id": "4a0f3e36-a258-4078-8d89-00757e8ad2d0",
   "metadata": {},
   "outputs": [
    {
     "name": "stdout",
     "output_type": "stream",
     "text": [
      "Height: 32\n",
      "Breadth: 34\n",
      "Area formula: (Height*Breadth)/2\n",
      "Area of Triangle: 544.0\n",
      "Height1: 2\n",
      "Height2: 4\n",
      "Breadth: 4\n",
      "Perimeter formula: Height1+Height2+Breadth\n",
      "Perimeter of Triangle: 10\n"
     ]
    }
   ],
   "source": [
    "class triangle:\n",
    "    def init(self):\n",
    "        self.height = 0\n",
    "        self.breadth = 0\n",
    "        self.height1 = 0\n",
    "        self.height2 = 0\n",
    "        self_breadth_for_perimeter = 0\n",
    "    def area (self, height, breadth):\n",
    "        self.height = height\n",
    "        self.breadth = breadth\n",
    "        return(self.height*self.breadth) / 2\n",
    "    def perimeter (self, height1, height2, breadth):\n",
    "        self.height1 = height1\n",
    "        self.height2 = height2\n",
    "        self.breadth_for_perimeter = breadth\n",
    "        return(self.height1+self.height2+self.breadth_for_perimeter)\n",
    "triangle = triangle()\n",
    "num1=32\n",
    "num2=34\n",
    "area = triangle.area(num1, num2)\n",
    "print(\"Height:\",num1)\n",
    "print(\"Breadth:\",num2)\n",
    "print(\"Area formula: (Height*Breadth)/2\")\n",
    "print(\"Area of Triangle:\",area)\n",
    "item1=2\n",
    "item2=4\n",
    "item3=4\n",
    "perimeter = triangle.perimeter(item1, item2, item3)\n",
    "print(\"Height1:\",item1)\n",
    "print(\"Height2:\",item2)\n",
    "print(\"Breadth:\",item3)\n",
    "print(\"Perimeter formula: Height1+Height2+Breadth\")\n",
    "print(\"Perimeter of Triangle:\",perimeter)"
   ]
  },
  {
   "cell_type": "code",
   "execution_count": null,
   "id": "8e1c306e-0834-4fc9-a61c-eac636b00f98",
   "metadata": {},
   "outputs": [],
   "source": []
  }
 ],
 "metadata": {
  "kernelspec": {
   "display_name": "Python 3 (ipykernel)",
   "language": "python",
   "name": "python3"
  },
  "language_info": {
   "codemirror_mode": {
    "name": "ipython",
    "version": 3
   },
   "file_extension": ".py",
   "mimetype": "text/x-python",
   "name": "python",
   "nbconvert_exporter": "python",
   "pygments_lexer": "ipython3",
   "version": "3.12.7"
  }
 },
 "nbformat": 4,
 "nbformat_minor": 5
}
